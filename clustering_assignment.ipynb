{
  "nbformat": 4,
  "nbformat_minor": 0,
  "metadata": {
    "colab": {
      "provenance": []
    },
    "kernelspec": {
      "name": "python3",
      "display_name": "Python 3"
    },
    "language_info": {
      "name": "python"
    }
  },
  "cells": [
    {
      "cell_type": "code",
      "execution_count": 2,
      "metadata": {
        "id": "KJZ9EEoyrU8A"
      },
      "outputs": [],
      "source": [
        "\n",
        "import pandas as pd\n",
        "import numpy as np\n",
        "from sklearn.cluster import KMeans, MeanShift, AgglomerativeClustering\n",
        "from sklearn.decomposition import PCA\n",
        "from sklearn.preprocessing import StandardScaler, MinMaxScaler\n",
        "from sklearn.metrics import silhouette_score, calinski_harabasz_score, davies_bouldin_score\n",
        "import matplotlib.pyplot as plt\n",
        "import seaborn as sns\n"
      ]
    },
    {
      "cell_type": "code",
      "source": [
        "# Load dataset\n",
        "url = \"https://archive.ics.uci.edu/ml/machine-learning-databases/iris/iris.data\"\n",
        "columns = ['sepal_length', 'sepal_width', 'petal_length', 'petal_width', 'class']\n",
        "data = pd.read_csv(url, names=columns)\n",
        "\n",
        "# Drop the target column for unsupervised clustering\n",
        "df = data.drop('class', axis=1)\n",
        "print(\"Dataset Head:\")\n",
        "print(df.head())\n"
      ],
      "metadata": {
        "colab": {
          "base_uri": "https://localhost:8080/"
        },
        "id": "ddqmFwM7rjlh",
        "outputId": "e9a6f4ae-1043-466c-ea7f-6b9d816b4d7e"
      },
      "execution_count": 3,
      "outputs": [
        {
          "output_type": "stream",
          "name": "stdout",
          "text": [
            "Dataset Head:\n",
            "   sepal_length  sepal_width  petal_length  petal_width\n",
            "0           5.1          3.5           1.4          0.2\n",
            "1           4.9          3.0           1.4          0.2\n",
            "2           4.7          3.2           1.3          0.2\n",
            "3           4.6          3.1           1.5          0.2\n",
            "4           5.0          3.6           1.4          0.2\n"
          ]
        }
      ]
    },
    {
      "cell_type": "markdown",
      "source": [
        "No preprocessing\n"
      ],
      "metadata": {
        "id": "2LEYwDsPsJys"
      }
    },
    {
      "cell_type": "code",
      "source": [
        "df_no_processing = df.copy()\n"
      ],
      "metadata": {
        "id": "vuS96SKlsHks"
      },
      "execution_count": 4,
      "outputs": []
    },
    {
      "cell_type": "markdown",
      "source": [
        "Normalization"
      ],
      "metadata": {
        "id": "ZLynxhYKsQOW"
      }
    },
    {
      "cell_type": "code",
      "source": [
        "scaler = MinMaxScaler()\n",
        "df_normalized = pd.DataFrame(scaler.fit_transform(df), columns=df.columns)\n",
        "print(\"Normalized Data:\")\n",
        "print(df_normalized.head())\n"
      ],
      "metadata": {
        "colab": {
          "base_uri": "https://localhost:8080/"
        },
        "id": "Ypn36e4AsORd",
        "outputId": "631a1050-b534-4ca0-a26a-72144ffc1453"
      },
      "execution_count": 5,
      "outputs": [
        {
          "output_type": "stream",
          "name": "stdout",
          "text": [
            "Normalized Data:\n",
            "   sepal_length  sepal_width  petal_length  petal_width\n",
            "0      0.222222     0.625000      0.067797     0.041667\n",
            "1      0.166667     0.416667      0.067797     0.041667\n",
            "2      0.111111     0.500000      0.050847     0.041667\n",
            "3      0.083333     0.458333      0.084746     0.041667\n",
            "4      0.194444     0.666667      0.067797     0.041667\n"
          ]
        }
      ]
    },
    {
      "cell_type": "markdown",
      "source": [
        "PCA"
      ],
      "metadata": {
        "id": "VQoGeIrRsY9F"
      }
    },
    {
      "cell_type": "code",
      "source": [
        "pca = PCA(n_components=2)\n",
        "df_pca = pd.DataFrame(pca.fit_transform(df), columns=['PC1', 'PC2'])\n",
        "print(\"PCA Transformed Data:\")\n",
        "print(df_pca.head())\n"
      ],
      "metadata": {
        "colab": {
          "base_uri": "https://localhost:8080/"
        },
        "id": "6P4QKbG_sVjG",
        "outputId": "f76af418-80e2-4ee8-93e2-845198830e5e"
      },
      "execution_count": 6,
      "outputs": [
        {
          "output_type": "stream",
          "name": "stdout",
          "text": [
            "PCA Transformed Data:\n",
            "        PC1       PC2\n",
            "0 -2.684207  0.326607\n",
            "1 -2.715391 -0.169557\n",
            "2 -2.889820 -0.137346\n",
            "3 -2.746437 -0.311124\n",
            "4 -2.728593  0.333925\n"
          ]
        }
      ]
    },
    {
      "cell_type": "markdown",
      "source": [
        "Normalise + PCA"
      ],
      "metadata": {
        "id": "Uif_IglBshFj"
      }
    },
    {
      "cell_type": "code",
      "source": [
        "# Normalize and Apply PCA\n",
        "df_normalized_pca = pd.DataFrame(pca.fit_transform(df_normalized), columns=['PC1', 'PC2'])\n",
        "print(\"Normalized + PCA Data:\")\n",
        "print(df_normalized_pca.head())\n"
      ],
      "metadata": {
        "colab": {
          "base_uri": "https://localhost:8080/"
        },
        "id": "h1ApZ0WgsagF",
        "outputId": "9ce3a026-0acc-4e27-ac1b-f6b129617bdf"
      },
      "execution_count": 7,
      "outputs": [
        {
          "output_type": "stream",
          "name": "stdout",
          "text": [
            "Normalized + PCA Data:\n",
            "        PC1       PC2\n",
            "0 -0.630361  0.111556\n",
            "1 -0.623546 -0.100313\n",
            "2 -0.669793 -0.047220\n",
            "3 -0.654633 -0.098791\n",
            "4 -0.648263  0.137558\n"
          ]
        }
      ]
    },
    {
      "cell_type": "code",
      "source": [
        "def clustering_analysis(data, clustering_method, cluster_range=range(3, 6)):\n",
        "    results = []\n",
        "    for c in cluster_range:\n",
        "        if clustering_method == 'KMeans':\n",
        "            model = KMeans(n_clusters=c, random_state=42)\n",
        "        elif clustering_method == 'Hierarchical':\n",
        "            model = AgglomerativeClustering(n_clusters=c)\n",
        "        elif clustering_method == 'MeanShift':\n",
        "            model = MeanShift()\n",
        "        else:\n",
        "            raise ValueError(\"Invalid Clustering Method\")\n",
        "\n",
        "        labels = model.fit_predict(data)\n",
        "        silhouette = silhouette_score(data, labels)\n",
        "        calinski = calinski_harabasz_score(data, labels)\n",
        "        davies = davies_bouldin_score(data, labels)\n",
        "\n",
        "        results.append([c, silhouette, calinski, davies])\n",
        "\n",
        "    return pd.DataFrame(results, columns=['Clusters', 'Silhouette', 'Calinski-Harabasz', 'Davies-Bouldin'])\n"
      ],
      "metadata": {
        "id": "BiPy9cWzskOb"
      },
      "execution_count": 8,
      "outputs": []
    },
    {
      "cell_type": "markdown",
      "source": [
        "K-Means Clustering"
      ],
      "metadata": {
        "id": "GgUawLNTsu5l"
      }
    },
    {
      "cell_type": "code",
      "source": [
        "print(\"K-Means Clustering - No Data Processing\")\n",
        "results_kmeans_no = clustering_analysis(df_no_processing, 'KMeans')\n",
        "print(results_kmeans_no)\n",
        "\n",
        "print(\"K-Means Clustering - Normalized Data\")\n",
        "results_kmeans_normalized = clustering_analysis(df_normalized, 'KMeans')\n",
        "print(results_kmeans_normalized)\n",
        "\n",
        "print(\"K-Means Clustering - PCA Data\")\n",
        "results_kmeans_pca = clustering_analysis(df_pca, 'KMeans')\n",
        "print(results_kmeans_pca)\n"
      ],
      "metadata": {
        "colab": {
          "base_uri": "https://localhost:8080/"
        },
        "id": "1iY7bzX5spq4",
        "outputId": "f88d4148-d289-4f3a-cf71-912a7be52320"
      },
      "execution_count": 9,
      "outputs": [
        {
          "output_type": "stream",
          "name": "stdout",
          "text": [
            "K-Means Clustering - No Data Processing\n",
            "   Clusters  Silhouette  Calinski-Harabasz  Davies-Bouldin\n",
            "0         3    0.550964         560.366004        0.666391\n",
            "1         4    0.497412         528.166420        0.754473\n",
            "2         5    0.488518         494.094382        0.806241\n",
            "K-Means Clustering - Normalized Data\n",
            "   Clusters  Silhouette  Calinski-Harabasz  Davies-Bouldin\n",
            "0         3    0.482472         350.061404        0.787498\n",
            "1         4    0.443500         312.607485        0.908822\n",
            "2         5    0.422254         262.018688        0.993414\n",
            "K-Means Clustering - PCA Data\n",
            "   Clusters  Silhouette  Calinski-Harabasz  Davies-Bouldin\n",
            "0         3    0.597565         692.404721        0.565084\n",
            "1         4    0.557620         717.476737        0.615300\n",
            "2         5    0.509966         640.473790        0.752691\n"
          ]
        }
      ]
    },
    {
      "cell_type": "markdown",
      "source": [
        "Hierarchical Clustering"
      ],
      "metadata": {
        "id": "RaoeCkPtszAe"
      }
    },
    {
      "cell_type": "code",
      "source": [
        "print(\"Hierarchical Clustering - No Data Processing\")\n",
        "results_hier_no = clustering_analysis(df_no_processing, 'Hierarchical')\n",
        "print(results_hier_no)\n",
        "\n",
        "print(\"Hierarchical Clustering - Normalized Data\")\n",
        "results_hier_normalized = clustering_analysis(df_normalized, 'Hierarchical')\n",
        "print(results_hier_normalized)\n",
        "\n",
        "print(\"Hierarchical Clustering - PCA Data\")\n",
        "results_hier_pca = clustering_analysis(df_pca, 'Hierarchical')\n",
        "print(results_hier_pca)\n"
      ],
      "metadata": {
        "colab": {
          "base_uri": "https://localhost:8080/"
        },
        "id": "G6Nmi2bgsxa7",
        "outputId": "27f968ce-33a0-46e8-992a-d7e32f8e6b36"
      },
      "execution_count": 10,
      "outputs": [
        {
          "output_type": "stream",
          "name": "stdout",
          "text": [
            "Hierarchical Clustering - No Data Processing\n",
            "   Clusters  Silhouette  Calinski-Harabasz  Davies-Bouldin\n",
            "0         3    0.554097         556.841122        0.656604\n",
            "1         4    0.488740         513.772164        0.795602\n",
            "2         5    0.484155         487.070341        0.820687\n",
            "Hierarchical Clustering - Normalized Data\n",
            "   Clusters  Silhouette  Calinski-Harabasz  Davies-Bouldin\n",
            "0         3    0.504349         348.030961        0.748647\n",
            "1         4    0.432557         299.899189        0.849343\n",
            "2         5    0.345371         273.637503        0.910150\n",
            "Hierarchical Clustering - PCA Data\n",
            "   Clusters  Silhouette  Calinski-Harabasz  Davies-Bouldin\n",
            "0         3    0.598386         687.372075        0.560729\n",
            "1         4    0.540933         672.569721        0.654855\n",
            "2         5    0.548655         664.102376        0.652847\n"
          ]
        }
      ]
    },
    {
      "cell_type": "markdown",
      "source": [
        "Mean-Shift Clustering\n"
      ],
      "metadata": {
        "id": "bzDnn0obs6dT"
      }
    },
    {
      "cell_type": "code",
      "source": [
        "print(\"Mean-Shift Clustering - No Data Processing\")\n",
        "results_ms_no = clustering_analysis(df_no_processing, 'MeanShift')\n",
        "print(results_ms_no)\n",
        "\n",
        "print(\"Mean-Shift Clustering - Normalized Data\")\n",
        "results_ms_normalized = clustering_analysis(df_normalized, 'MeanShift')\n",
        "print(results_ms_normalized)\n",
        "\n",
        "print(\"Mean-Shift Clustering - PCA Data\")\n",
        "results_ms_pca = clustering_analysis(df_pca, 'MeanShift')\n",
        "print(results_ms_pca)\n"
      ],
      "metadata": {
        "colab": {
          "base_uri": "https://localhost:8080/"
        },
        "id": "Zh48U5GLs4Em",
        "outputId": "0bfc7ef2-ff4e-4530-d806-1e448b2fb7c7"
      },
      "execution_count": 11,
      "outputs": [
        {
          "output_type": "stream",
          "name": "stdout",
          "text": [
            "Mean-Shift Clustering - No Data Processing\n",
            "   Clusters  Silhouette  Calinski-Harabasz  Davies-Bouldin\n",
            "0         3    0.685482         508.882183        0.389291\n",
            "1         4    0.685482         508.882183        0.389291\n",
            "2         5    0.685482         508.882183        0.389291\n",
            "Mean-Shift Clustering - Normalized Data\n",
            "   Clusters  Silhouette  Calinski-Harabasz  Davies-Bouldin\n",
            "0         3    0.629468         353.367403        0.487705\n",
            "1         4    0.629468         353.367403        0.487705\n",
            "2         5    0.629468         353.367403        0.487705\n",
            "Mean-Shift Clustering - PCA Data\n",
            "   Clusters  Silhouette  Calinski-Harabasz  Davies-Bouldin\n",
            "0         3    0.710078         564.900085        0.355714\n",
            "1         4    0.710078         564.900085        0.355714\n",
            "2         5    0.710078         564.900085        0.355714\n"
          ]
        }
      ]
    },
    {
      "cell_type": "code",
      "source": [
        "model = KMeans(n_clusters=3, random_state=42)\n",
        "labels = model.fit_predict(df_pca)\n",
        "\n",
        "plt.figure(figsize=(8, 6))\n",
        "sns.scatterplot(x='PC1', y='PC2', hue=labels, data=df_pca, palette='viridis', legend='full')\n",
        "plt.title(\"K-Means Clusters (PCA-Reduced Data)\")\n",
        "plt.show()\n"
      ],
      "metadata": {
        "colab": {
          "base_uri": "https://localhost:8080/",
          "height": 564
        },
        "id": "8Kp_GlsFtAI_",
        "outputId": "dc903824-1e8f-46e1-aeb3-52b203f96777"
      },
      "execution_count": 12,
      "outputs": [
        {
          "output_type": "display_data",
          "data": {
            "text/plain": [
              "<Figure size 800x600 with 1 Axes>"
            ],
            "image/png": "[encoded data removed]"
          },
          "metadata": {}
        }
      ]
    },
    {
      "cell_type": "code",
      "source": [
        "print(\"K-Means Results:\")\n",
        "print(results_kmeans_no)\n",
        "\n",
        "print(\"Hierarchical Results:\")\n",
        "print(results_hier_no)\n",
        "\n",
        "print(\"Mean-Shift Results:\")\n",
        "print(results_ms_no)\n"
      ],
      "metadata": {
        "colab": {
          "base_uri": "https://localhost:8080/"
        },
        "id": "3YOCpH4qtOwh",
        "outputId": "ea1e4343-5256-49f1-e174-1c2c2c0ac096"
      },
      "execution_count": 13,
      "outputs": [
        {
          "output_type": "stream",
          "name": "stdout",
          "text": [
            "K-Means Results:\n",
            "   Clusters  Silhouette  Calinski-Harabasz  Davies-Bouldin\n",
            "0         3    0.550964         560.366004        0.666391\n",
            "1         4    0.497412         528.166420        0.754473\n",
            "2         5    0.488518         494.094382        0.806241\n",
            "Hierarchical Results:\n",
            "   Clusters  Silhouette  Calinski-Harabasz  Davies-Bouldin\n",
            "0         3    0.554097         556.841122        0.656604\n",
            "1         4    0.488740         513.772164        0.795602\n",
            "2         5    0.484155         487.070341        0.820687\n",
            "Mean-Shift Results:\n",
            "   Clusters  Silhouette  Calinski-Harabasz  Davies-Bouldin\n",
            "0         3    0.685482         508.882183        0.389291\n",
            "1         4    0.685482         508.882183        0.389291\n",
            "2         5    0.685482         508.882183        0.389291\n"
          ]
        }
      ]
    }
  ]
}